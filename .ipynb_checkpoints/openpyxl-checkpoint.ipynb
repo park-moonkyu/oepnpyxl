{
 "cells": [
  {
   "cell_type": "markdown",
   "metadata": {},
   "source": [
    "# Openpyxl로 엑셀파일 다루기\n",
    "\n",
    "엑셀 데이터를 관리하거나 json등의 다른 타입으로 변경할때 openpyxl을 사용한다.\n"
   ]
  },
  {
   "cell_type": "code",
   "execution_count": 2,
   "metadata": {},
   "outputs": [
    {
     "name": "stdout",
     "output_type": "stream",
     "text": [
      "Requirement already satisfied: openpyxl in c:\\users\\user\\anaconda3\\lib\\site-packages (3.0.4)\n",
      "Requirement already satisfied: jdcal in c:\\users\\user\\anaconda3\\lib\\site-packages (from openpyxl) (1.4.1)\n",
      "Requirement already satisfied: et-xmlfile in c:\\users\\user\\anaconda3\\lib\\site-packages (from openpyxl) (1.0.1)\n"
     ]
    }
   ],
   "source": [
    "# openpyxl 설치\n",
    "!pip install openpyxl"
   ]
  },
  {
   "cell_type": "markdown",
   "metadata": {},
   "source": [
    "### <불러오기> 나의 경우 MD들이 특정 상품을 공유폴더에 입력 하면 엑셀에서 긁어오기위해서 사용한다\n",
    "\n",
    "각각이 해당 패키지를 쓰는 이유는 다를텐데 각자의 이유에 맞게 엑셀파일을 세팅한다.\n",
    "\n",
    "** openpyxl 에서는 엑셀파일을 book이라고 한다. book에는 여러개 sheet가 들어가있다. \n",
    "<br>sheet에는 row와 column을 가진 2차원 cell로 구성되어있다."
   ]
  },
  {
   "cell_type": "code",
   "execution_count": 26,
   "metadata": {},
   "outputs": [],
   "source": [
    "# -*- coding:utf-8 -*-\n",
    "import openpyxl\n",
    "\n",
    "# 엑셀파일 열기\n",
    "filename = \"test.xlsx\"\n",
    "book = openpyxl.load_workbook(filename)\n",
    "\n",
    "# 맨 앞의 시트 추출하기\n",
    "sheet = book.worksheets[0]\n"
   ]
  },
  {
   "cell_type": "markdown",
   "metadata": {},
   "source": [
    "지금 sheet안에는 상품명이 적혀있는 페이지를 담고있다<br>\n",
    "따라서 리스트안에 해당 상품명을 담을 예정이다.<br>\n",
    "만약 상품명 뿐만 아니라, 다른 정보들도 담아내려면 row[i] , i의 값을 늘려주면 될것이다. <br>"
   ]
  },
  {
   "cell_type": "code",
   "execution_count": 27,
   "metadata": {},
   "outputs": [
    {
     "name": "stdout",
     "output_type": "stream",
     "text": [
      "['NT930QCG-K58A', '박문규', '20.11.03']\n",
      "['NT350XCR-AD5WA', '임선정', '20.11.05']\n",
      "['15ZD90N-VX50K', '권규현', '20.10.29']\n",
      "['15UD40N-GX36K', '이승호', '20.10.29']\n",
      "['15UD40N-GX36K', '박문규', '20.10.28']\n",
      "['75ATD430N-66h', '김민창', '20.10.29']\n",
      "['NT350XCR-AD5WA', '박문규', '20.10.29']\n",
      "['NT950XCR-G58A', '박문규', '20.10.29']\n",
      "['17ZD90N-VX70K', '권규현', '20.10.29']\n",
      "['NT950QCT-A58A', '권규현', '20.10.29']\n",
      "['15ZD90N-HX56K', '임선정', '20.10.29']\n",
      "['17ZD90N-VX50K', '박문규', '20.10.29']\n",
      "['NT950XCR-A58A', '임선정', '20.10.29']\n",
      "['NT950XCJ-X716A', '권규현', '20.10.29']\n",
      "[None, None, None]\n"
     ]
    }
   ],
   "source": [
    "# 시트의 각 행을 순서대로 추출하기\n",
    "data = []\n",
    "for row in sheet.rows:\n",
    "    data.append([row[0].value, row[1].value,row[2].value])\n",
    "\n",
    "del data[0]\n",
    "\n",
    "for i in range(len(data)):\n",
    "    print(data[i])\n",
    " \n",
    "    \n",
    "    "
   ]
  },
  {
   "cell_type": "markdown",
   "metadata": {},
   "source": [
    "## 엑셀 파일 쓰기\n",
    "\n",
    "여기서 중요한점은 sheet[str(chr(i+66)+숫자] 인거 같다.<br>\n",
    "행을 A ~ Z 까지 입력을 해주어도 되겠지만 해당 알파벳을 아스키 코드로 활용했다.\n",
    "따라서 16진수로 65 \"A\" 에 해당되므로 65부터 시작하게 설정하였다. <br>\n",
    "아스키코드는 ASCII Table을 참고하기 바란다."
   ]
  },
  {
   "cell_type": "code",
   "execution_count": 31,
   "metadata": {},
   "outputs": [],
   "source": [
    "# -*- coding:utf-8 -*-\n",
    "import openpyxl\n",
    "\n",
    "# 엑셀파일 열기\n",
    "filename = \"test.xlsx\"\n",
    "book = openpyxl.load_workbook(filename)\n",
    "\n",
    "#활성화된 시트 추출하기\n",
    "sheet = book.active\n",
    "\n",
    "#쓰기\n",
    "for i in range(0,2):\n",
    "    sheet[str(chr(i+65))+\"21\"]=5\n",
    "\n",
    "#저장\n",
    "filename = \"population.xlsx\"\n",
    "book.save(filename)\n",
    "print(\"저장완료\")\n"
   ]
  },
  {
   "cell_type": "markdown",
   "metadata": {},
   "source": [
    "# Json 형식으로 저장"
   ]
  },
  {
   "cell_type": "code",
   "execution_count": 37,
   "metadata": {},
   "outputs": [
    {
     "name": "stdout",
     "output_type": "stream",
     "text": [
      "<Worksheet \"Sheet1\">\n"
     ]
    }
   ],
   "source": [
    "# -*- coding:utf-8 -*-\n",
    "import openpyxl\n",
    "import codecs\n",
    "\n",
    "# 엑셀파일 열기\n",
    "filename = \"population.xlsx\"\n",
    "book = openpyxl.load_workbook(filename)\n",
    "\n",
    "# 엑셀 파일의 첫번째 시트 추출하기\n",
    "sheet = book.worksheets[0]\n",
    "print(sheet)\n",
    "\n",
    "# json 형식에 맞게 문자 변경\n",
    "def replaceToJson(text):\n",
    "    if text == None:\n",
    "        return \"\"\n",
    "    else:\n",
    "        text = text.replace(\"\\n\", \"\\\\n\")\n",
    "        text = text.replace('\"', '\\\\\"')\n",
    "        return text\n",
    "    \n",
    "jsonFile=codecs.open('word.json','w','utf-8')\n",
    "\n",
    "i = 0\n",
    "max_row = sheet.max_row\n",
    "\n",
    "for row in sheet.rows:\n",
    "    productID = replaceToJson(row[0].value)\n",
    "    name = replaceToJson(row[1].value)\n",
    "    date= replaceToJson(row[2].value)\n",
    "\n",
    "    if i != max_row:\n",
    "        jsonword = '\\t{\"productID\": \"%s\", \"name\": \"%s\", \"date\": \"%s\"},' % (productID,name,date)\n",
    "    else:\n",
    "        jsonword = '\\t{\"productID\": \"%s\", \"name\": \"%s\", \"date\": \"%s\"}' % (productID,name,date)\n",
    "\n",
    "    # json 파일에 쓰기\n",
    "    jsonFile.write(jsonword + '\\n')\n",
    "    i = i + 1\n"
   ]
  },
  {
   "cell_type": "code",
   "execution_count": null,
   "metadata": {},
   "outputs": [],
   "source": []
  }
 ],
 "metadata": {
  "kernelspec": {
   "display_name": "Python 3",
   "language": "python",
   "name": "python3"
  },
  "language_info": {
   "codemirror_mode": {
    "name": "ipython",
    "version": 3
   },
   "file_extension": ".py",
   "mimetype": "text/x-python",
   "name": "python",
   "nbconvert_exporter": "python",
   "pygments_lexer": "ipython3",
   "version": "3.8.3"
  }
 },
 "nbformat": 4,
 "nbformat_minor": 4
}
